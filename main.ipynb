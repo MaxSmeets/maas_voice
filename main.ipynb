{
 "cells": [
  {
   "cell_type": "code",
   "execution_count": 97,
   "metadata": {},
   "outputs": [],
   "source": [
    "import requests\n",
    "import pandas as pd\n",
    "from datetime import datetime, timedelta\n",
    "import matplotlib.pyplot as plt\n",
    "import json"
   ]
  },
  {
   "cell_type": "code",
   "execution_count": 83,
   "metadata": {},
   "outputs": [],
   "source": [
    "# Define the endpoints\n",
    "catalogus_url = 'https://waterwebservices.rijkswaterstaat.nl/METADATASERVICES_DBO/OphalenCatalogus'\n",
    "waarnemingen_url = 'https://waterwebservices.rijkswaterstaat.nl/ONLINEWAARNEMINGENSERVICES_DBO/OphalenWaarnemingen'"
   ]
  },
  {
   "cell_type": "code",
   "execution_count": 84,
   "metadata": {},
   "outputs": [],
   "source": [
    "    # Step 1: Retrieve the catalog of available data\n",
    "catalogus_request = {\n",
    "    \"CatalogusFilter\": {\n",
    "        \"Grootheden\": True,\n",
    "        \"Eenheden\": True,\n",
    "        \"Compartimenten\": True\n",
    "    }\n",
    "}"
   ]
  },
  {
   "cell_type": "code",
   "execution_count": 85,
   "metadata": {},
   "outputs": [],
   "source": [
    "catalogus_response = requests.post(catalogus_url, json=catalogus_request)\n",
    "if catalogus_response.status_code != 200:\n",
    "   print(f\"Request failed with status code {catalogus_response.status_code}\")\n",
    "   print(f\"Response content: {catalogus_response.text}\")\n",
    "catalogus_data = catalogus_response.json()"
   ]
  },
  {
   "cell_type": "code",
   "execution_count": 86,
   "metadata": {},
   "outputs": [],
   "source": [
    "# Convert the locations data to a DataFrame\n",
    "locaties_df = pd.DataFrame(catalogus_data['LocatieLijst'])"
   ]
  },
  {
   "cell_type": "code",
   "execution_count": 87,
   "metadata": {},
   "outputs": [
    {
     "data": {
      "text/html": [
       "<div>\n",
       "<style scoped>\n",
       "    .dataframe tbody tr th:only-of-type {\n",
       "        vertical-align: middle;\n",
       "    }\n",
       "\n",
       "    .dataframe tbody tr th {\n",
       "        vertical-align: top;\n",
       "    }\n",
       "\n",
       "    .dataframe thead th {\n",
       "        text-align: right;\n",
       "    }\n",
       "</style>\n",
       "<table border=\"1\" class=\"dataframe\">\n",
       "  <thead>\n",
       "    <tr style=\"text-align: right;\">\n",
       "      <th></th>\n",
       "      <th>Locatie_MessageID</th>\n",
       "      <th>Coordinatenstelsel</th>\n",
       "      <th>X</th>\n",
       "      <th>Y</th>\n",
       "      <th>Naam</th>\n",
       "      <th>Code</th>\n",
       "    </tr>\n",
       "  </thead>\n",
       "  <tbody>\n",
       "    <tr>\n",
       "      <th>0</th>\n",
       "      <td>9405</td>\n",
       "      <td>25831</td>\n",
       "      <td>650558.187857</td>\n",
       "      <td>5.821886e+06</td>\n",
       "      <td>Markermeer midden (zwaartepunt Markermeer)</td>\n",
       "      <td>MARKMMDN</td>\n",
       "    </tr>\n",
       "    <tr>\n",
       "      <th>1</th>\n",
       "      <td>9889</td>\n",
       "      <td>25831</td>\n",
       "      <td>662953.888711</td>\n",
       "      <td>5.730335e+06</td>\n",
       "      <td>Hintham beneden</td>\n",
       "      <td>HHMO</td>\n",
       "    </tr>\n",
       "    <tr>\n",
       "      <th>2</th>\n",
       "      <td>9928</td>\n",
       "      <td>25831</td>\n",
       "      <td>705788.247439</td>\n",
       "      <td>5.671745e+06</td>\n",
       "      <td>Linne beneden</td>\n",
       "      <td>LINN</td>\n",
       "    </tr>\n",
       "    <tr>\n",
       "      <th>3</th>\n",
       "      <td>9943</td>\n",
       "      <td>25831</td>\n",
       "      <td>709204.680145</td>\n",
       "      <td>5.838074e+06</td>\n",
       "      <td>Meppelerdiep km 2.5</td>\n",
       "      <td>MEP25</td>\n",
       "    </tr>\n",
       "    <tr>\n",
       "      <th>4</th>\n",
       "      <td>9959</td>\n",
       "      <td>25831</td>\n",
       "      <td>711556.219876</td>\n",
       "      <td>5.803628e+06</td>\n",
       "      <td>Olst</td>\n",
       "      <td>OLST</td>\n",
       "    </tr>\n",
       "  </tbody>\n",
       "</table>\n",
       "</div>"
      ],
      "text/plain": [
       "   Locatie_MessageID Coordinatenstelsel              X             Y  \\\n",
       "0               9405              25831  650558.187857  5.821886e+06   \n",
       "1               9889              25831  662953.888711  5.730335e+06   \n",
       "2               9928              25831  705788.247439  5.671745e+06   \n",
       "3               9943              25831  709204.680145  5.838074e+06   \n",
       "4               9959              25831  711556.219876  5.803628e+06   \n",
       "\n",
       "                                         Naam      Code  \n",
       "0  Markermeer midden (zwaartepunt Markermeer)  MARKMMDN  \n",
       "1                             Hintham beneden      HHMO  \n",
       "2                               Linne beneden      LINN  \n",
       "3                         Meppelerdiep km 2.5     MEP25  \n",
       "4                                        Olst      OLST  "
      ]
     },
     "execution_count": 87,
     "metadata": {},
     "output_type": "execute_result"
    }
   ],
   "source": [
    "# Display the first few rows of the locations DataFrame\n",
    "locaties_df.head()"
   ]
  },
  {
   "cell_type": "code",
   "execution_count": 88,
   "metadata": {},
   "outputs": [
    {
     "name": "stdout",
     "output_type": "stream",
     "text": [
      "Selected Location Code: BORD\n",
      "X: 689365.31984819, Y: 5639150.48421077\n"
     ]
    }
   ],
   "source": [
    "# Step 2: Select a specific location and parameter\n",
    "# For demonstration, we'll select the first location and the 'Waterhoogte' (water level) parameter\n",
    "# Select the row where the 'Naam' column is equal to 'Borgharen Dorp'\n",
    "selected_row = locaties_df[locaties_df['Naam'] == 'Borgharen Dorp']\n",
    "\n",
    "# Get the 'Code', 'X', and 'Y' values from the selected row\n",
    "if not selected_row.empty:\n",
    "    selected_location = selected_row.iloc[0]['Code']\n",
    "    selected_x = float(selected_row.iloc[0]['X'])\n",
    "    selected_y = float(selected_row.iloc[0]['Y'])\n",
    "    print(f\"Selected Location Code: {selected_location}\")\n",
    "    print(f\"X: {selected_x}, Y: {selected_y}\")\n",
    "else:\n",
    "    print(\"Location 'Borgharen Dorp' not found in the catalog.\")\n",
    "\n",
    "selected_parameter = 'WATHTE'  # Code for water level\n"
   ]
  },
  {
   "cell_type": "code",
   "execution_count": 89,
   "metadata": {},
   "outputs": [
    {
     "name": "stdout",
     "output_type": "stream",
     "text": [
      "start: 2025-01-22T16:03:50.000+01:00, end: 2025-02-19T16:03:50.000+01:00\n"
     ]
    }
   ],
   "source": [
    "# Define the time period for data retrieval (e.g., last 7 days)\n",
    "end_date = datetime.now()\n",
    "start_date = end_date - timedelta(days=28)\n",
    "\n",
    "# Format dates in ISO 8601 format\n",
    "start_date_str = start_date.strftime('%Y-%m-%dT%H:%M:%S.000+01:00')\n",
    "end_date_str = end_date.strftime('%Y-%m-%dT%H:%M:%S.000+01:00')\n",
    "\n",
    "print(f\"start: {start_date_str}, end: {end_date_str}\")"
   ]
  },
  {
   "cell_type": "code",
   "execution_count": 90,
   "metadata": {},
   "outputs": [],
   "source": [
    "# Step 3: Retrieve water level data for the selected location and time period\n",
    "waarnemingen_request = {\n",
    "    \"Locatie\": {\"Code\": selected_location, \"X\":selected_x, \"Y\": selected_y},\n",
    "    \"AquoPlusWaarnemingMetadata\": {\n",
    "        \"AquoMetadata\": {\n",
    "            \"Compartiment\": {\"Code\": \"OW\"},  # OW stands for 'Oppervlaktewater' (surface water)\n",
    "            \"Grootheid\": {\"Code\": selected_parameter}\n",
    "        }\n",
    "    },\n",
    "    \"Periode\": {\n",
    "        \"Begindatumtijd\": start_date_str,\n",
    "        \"Einddatumtijd\": end_date_str\n",
    "    }\n",
    "}"
   ]
  },
  {
   "cell_type": "code",
   "execution_count": 91,
   "metadata": {},
   "outputs": [],
   "source": [
    "waarnemingen_response = requests.post(waarnemingen_url, json=waarnemingen_request)\n",
    "waarnemingen_data = waarnemingen_response.json()"
   ]
  },
  {
   "cell_type": "code",
   "execution_count": 94,
   "metadata": {},
   "outputs": [
    {
     "name": "stdout",
     "output_type": "stream",
     "text": [
      "Water level data saved to 'water_level_data.json' successfully!\n",
      "\n",
      "Water Level Data for Location: BORD\n"
     ]
    },
    {
     "data": {
      "text/html": [
       "<div>\n",
       "<style scoped>\n",
       "    .dataframe tbody tr th:only-of-type {\n",
       "        vertical-align: middle;\n",
       "    }\n",
       "\n",
       "    .dataframe tbody tr th {\n",
       "        vertical-align: top;\n",
       "    }\n",
       "\n",
       "    .dataframe thead th {\n",
       "        text-align: right;\n",
       "    }\n",
       "</style>\n",
       "<table border=\"1\" class=\"dataframe\">\n",
       "  <thead>\n",
       "    <tr style=\"text-align: right;\">\n",
       "      <th></th>\n",
       "      <th>WaarnemingenLijst</th>\n",
       "      <th>Succesvol</th>\n",
       "    </tr>\n",
       "  </thead>\n",
       "  <tbody>\n",
       "    <tr>\n",
       "      <th>0</th>\n",
       "      <td>{'Locatie': {'Locatie_MessageID': 9874, 'Coord...</td>\n",
       "      <td>True</td>\n",
       "    </tr>\n",
       "  </tbody>\n",
       "</table>\n",
       "</div>"
      ],
      "text/plain": [
       "                                   WaarnemingenLijst  Succesvol\n",
       "0  {'Locatie': {'Locatie_MessageID': 9874, 'Coord...       True"
      ]
     },
     "execution_count": 94,
     "metadata": {},
     "output_type": "execute_result"
    }
   ],
   "source": [
    "waarnemingen_df = pd.DataFrame(waarnemingen_data)\n",
    "\n",
    "# Save the 'waarnemingen_df' DataFrame to a JSON file\n",
    "waarnemingen_df.to_json('water_level_data.json', orient='records', lines=True, force_ascii=False)\n",
    "\n",
    "print(\"Water level data saved to 'water_level_data.json' successfully!\")\n",
    "\n",
    "# Display the first few rows of the observations DataFrame\n",
    "print(f\"\\nWater Level Data for Location: {selected_location}\")\n",
    "waarnemingen_df.head()"
   ]
  },
  {
   "cell_type": "code",
   "execution_count": 99,
   "metadata": {},
   "outputs": [
    {
     "data": {
      "text/html": [
       "<div>\n",
       "<style scoped>\n",
       "    .dataframe tbody tr th:only-of-type {\n",
       "        vertical-align: middle;\n",
       "    }\n",
       "\n",
       "    .dataframe tbody tr th {\n",
       "        vertical-align: top;\n",
       "    }\n",
       "\n",
       "    .dataframe thead th {\n",
       "        text-align: right;\n",
       "    }\n",
       "</style>\n",
       "<table border=\"1\" class=\"dataframe\">\n",
       "  <thead>\n",
       "    <tr style=\"text-align: right;\">\n",
       "      <th></th>\n",
       "      <th>Tijdstip</th>\n",
       "      <th>Waarde_Numeriek</th>\n",
       "      <th>WaarnemingMetadata.StatuswaardeLijst</th>\n",
       "      <th>WaarnemingMetadata.ReferentievlakLijst</th>\n",
       "    </tr>\n",
       "  </thead>\n",
       "  <tbody>\n",
       "    <tr>\n",
       "      <th>3031</th>\n",
       "      <td>2025-01-22 16:10:00+01:00</td>\n",
       "      <td>3979.0</td>\n",
       "      <td>[Ongecontroleerd]</td>\n",
       "      <td>[NAP]</td>\n",
       "    </tr>\n",
       "    <tr>\n",
       "      <th>3032</th>\n",
       "      <td>2025-01-22 16:20:00+01:00</td>\n",
       "      <td>3978.0</td>\n",
       "      <td>[Ongecontroleerd]</td>\n",
       "      <td>[NAP]</td>\n",
       "    </tr>\n",
       "    <tr>\n",
       "      <th>3033</th>\n",
       "      <td>2025-01-22 16:30:00+01:00</td>\n",
       "      <td>3978.0</td>\n",
       "      <td>[Ongecontroleerd]</td>\n",
       "      <td>[NAP]</td>\n",
       "    </tr>\n",
       "    <tr>\n",
       "      <th>3034</th>\n",
       "      <td>2025-01-22 16:40:00+01:00</td>\n",
       "      <td>3976.0</td>\n",
       "      <td>[Ongecontroleerd]</td>\n",
       "      <td>[NAP]</td>\n",
       "    </tr>\n",
       "    <tr>\n",
       "      <th>3035</th>\n",
       "      <td>2025-01-22 16:50:00+01:00</td>\n",
       "      <td>3975.0</td>\n",
       "      <td>[Ongecontroleerd]</td>\n",
       "      <td>[NAP]</td>\n",
       "    </tr>\n",
       "  </tbody>\n",
       "</table>\n",
       "</div>"
      ],
      "text/plain": [
       "                      Tijdstip  Waarde_Numeriek  \\\n",
       "3031 2025-01-22 16:10:00+01:00           3979.0   \n",
       "3032 2025-01-22 16:20:00+01:00           3978.0   \n",
       "3033 2025-01-22 16:30:00+01:00           3978.0   \n",
       "3034 2025-01-22 16:40:00+01:00           3976.0   \n",
       "3035 2025-01-22 16:50:00+01:00           3975.0   \n",
       "\n",
       "     WaarnemingMetadata.StatuswaardeLijst  \\\n",
       "3031                    [Ongecontroleerd]   \n",
       "3032                    [Ongecontroleerd]   \n",
       "3033                    [Ongecontroleerd]   \n",
       "3034                    [Ongecontroleerd]   \n",
       "3035                    [Ongecontroleerd]   \n",
       "\n",
       "     WaarnemingMetadata.ReferentievlakLijst  \n",
       "3031                                  [NAP]  \n",
       "3032                                  [NAP]  \n",
       "3033                                  [NAP]  \n",
       "3034                                  [NAP]  \n",
       "3035                                  [NAP]  "
      ]
     },
     "execution_count": 99,
     "metadata": {},
     "output_type": "execute_result"
    }
   ],
   "source": [
    "# Load the JSON data from the uploaded file\n",
    "file_path = 'water_level_data.json'\n",
    "with open(file_path, 'r', encoding='utf-8') as file:\n",
    "    data = json.load(file)\n",
    "\n",
    "# Extract the measurement data\n",
    "location_info = data['WaarnemingenLijst']['Locatie']\n",
    "measurements = data['WaarnemingenLijst']['MetingenLijst']\n",
    "\n",
    "# Convert the measurements to a DataFrame\n",
    "df = pd.json_normalize(measurements)\n",
    "\n",
    "# Extract relevant columns and clean up data\n",
    "df['Tijdstip'] = pd.to_datetime(df['Tijdstip'])\n",
    "df['Waarde_Numeriek'] = pd.to_numeric(df['Meetwaarde.Waarde_Numeriek'], errors='coerce')\n",
    "\n",
    "# Drop unnecessary columns\n",
    "columns_to_keep = ['Tijdstip', 'Waarde_Numeriek', 'WaarnemingMetadata.StatuswaardeLijst',\n",
    "                   'WaarnemingMetadata.ReferentievlakLijst']\n",
    "df = df[columns_to_keep]\n",
    "\n",
    "# Handle invalid values (-999999999 as placeholder)\n",
    "df.replace(-999999999, None, inplace=True)\n",
    "\n",
    "# Sort data by timestamp\n",
    "df.sort_values(by='Tijdstip', inplace=True)\n",
    "\n",
    "# Display the cleaned data\n",
    "df.head()  # Displays the first few rows of the cleaned data\n"
   ]
  },
  {
   "cell_type": "code",
   "execution_count": 100,
   "metadata": {},
   "outputs": [
    {
     "data": {
      "image/png": "[encoded data removed]",
      "text/plain": [
       "<Figure size 640x480 with 1 Axes>"
      ]
     },
     "metadata": {},
     "output_type": "display_data"
    }
   ],
   "source": [
    "plt.plot(df['Tijdstip'], df['Waarde_Numeriek'])\n",
    "plt.xlabel('Timestamp')\n",
    "plt.ylabel('Water Level')\n",
    "plt.title('Water Level Over Time')\n",
    "plt.xticks(rotation=45)\n",
    "plt.tight_layout()\n",
    "plt.show()\n"
   ]
  }
 ],
 "metadata": {
  "kernelspec": {
   "display_name": ".venv",
   "language": "python",
   "name": "python3"
  },
  "language_info": {
   "codemirror_mode": {
    "name": "ipython",
    "version": 3
   },
   "file_extension": ".py",
   "mimetype": "text/x-python",
   "name": "python",
   "nbconvert_exporter": "python",
   "pygments_lexer": "ipython3",
   "version": "3.11.10"
  }
 },
 "nbformat": 4,
 "nbformat_minor": 2
}
